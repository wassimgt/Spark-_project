{
 "cells": [
  {
   "cell_type": "code",
   "execution_count": 17,
   "metadata": {},
   "outputs": [],
   "source": [
    "from pyspark.ml import Pipeline\n",
    "from pyspark.ml.feature import StringIndexer\n",
    "from pyspark.sql import SparkSession\n",
    "from pyspark import SparkContext\n",
    "from pyspark.ml.regression import LinearRegression\n",
    "import pandas as pd\n"
   ]
  },
  {
   "cell_type": "code",
   "execution_count": 18,
   "metadata": {},
   "outputs": [],
   "source": [
    "spark=SparkSession.builder.appName('projet').getOrCreate()"
   ]
  },
  {
   "cell_type": "code",
   "execution_count": 4,
   "metadata": {},
   "outputs": [],
   "source": [
    "data_train=spark.read.csv(\"data_train.csv\",inferSchema=True ,header=True)\n",
    "data_text=spark.read.csv(\"test_data.csv\",inferSchema=True ,header=True)\n"
   ]
  },
  {
   "cell_type": "code",
   "execution_count": 5,
   "metadata": {},
   "outputs": [],
   "source": [
    "indexer = StringIndexer(inputCol=\"type\", outputCol=\"type_index\").fit(data_train)\n",
    "indexer2 = StringIndexer(inputCol=\"type\", outputCol=\"type_index\").fit(data_text)"
   ]
  },
  {
   "cell_type": "code",
   "execution_count": 6,
   "metadata": {},
   "outputs": [],
   "source": [
    "df_train = indexer.transform(data_train)\n",
    "df_test = indexer2.transform(data_text)"
   ]
  },
  {
   "cell_type": "code",
   "execution_count": 16,
   "metadata": {},
   "outputs": [
    {
     "data": {
      "text/html": [
       "<div>\n",
       "<style scoped>\n",
       "    .dataframe tbody tr th:only-of-type {\n",
       "        vertical-align: middle;\n",
       "    }\n",
       "\n",
       "    .dataframe tbody tr th {\n",
       "        vertical-align: top;\n",
       "    }\n",
       "\n",
       "    .dataframe thead th {\n",
       "        text-align: right;\n",
       "    }\n",
       "</style>\n",
       "<table border=\"1\" class=\"dataframe\">\n",
       "  <thead>\n",
       "    <tr style=\"text-align: right;\">\n",
       "      <th></th>\n",
       "      <th>_key</th>\n",
       "      <th>a</th>\n",
       "      <th>area</th>\n",
       "      <th>ci</th>\n",
       "      <th>d</th>\n",
       "      <th>eccentricity</th>\n",
       "      <th>kx</th>\n",
       "      <th>ky</th>\n",
       "      <th>m00</th>\n",
       "      <th>m01</th>\n",
       "      <th>...</th>\n",
       "      <th>mu02</th>\n",
       "      <th>mu03</th>\n",
       "      <th>mu11</th>\n",
       "      <th>mu20</th>\n",
       "      <th>mu30</th>\n",
       "      <th>pi</th>\n",
       "      <th>sx</th>\n",
       "      <th>sy</th>\n",
       "      <th>type</th>\n",
       "      <th>type_index</th>\n",
       "    </tr>\n",
       "  </thead>\n",
       "  <tbody>\n",
       "    <tr>\n",
       "      <th>0</th>\n",
       "      <td>-LA07prX-5Fv0Hrn_oe0</td>\n",
       "      <td>0.735318</td>\n",
       "      <td>48951.0</td>\n",
       "      <td>1.305102</td>\n",
       "      <td>330.246338</td>\n",
       "      <td>0.728682</td>\n",
       "      <td>2.123283e+16</td>\n",
       "      <td>7.487894e+16</td>\n",
       "      <td>48951.0</td>\n",
       "      <td>6388105.5</td>\n",
       "      <td>...</td>\n",
       "      <td>2.736402e+08</td>\n",
       "      <td>0.0</td>\n",
       "      <td>0.000000e+00</td>\n",
       "      <td>1.457149e+08</td>\n",
       "      <td>0.000000</td>\n",
       "      <td>896.0</td>\n",
       "      <td>0.000000e+00</td>\n",
       "      <td>0.0</td>\n",
       "      <td>Feuille d'avokado</td>\n",
       "      <td>4.0</td>\n",
       "    </tr>\n",
       "    <tr>\n",
       "      <th>1</th>\n",
       "      <td>-LA08FYaTlZ2noy8lXQd</td>\n",
       "      <td>0.597117</td>\n",
       "      <td>125156.0</td>\n",
       "      <td>1.373957</td>\n",
       "      <td>554.588745</td>\n",
       "      <td>1.745318</td>\n",
       "      <td>5.173785e+18</td>\n",
       "      <td>5.611514e+17</td>\n",
       "      <td>125156.0</td>\n",
       "      <td>16896060.0</td>\n",
       "      <td>...</td>\n",
       "      <td>7.491004e+08</td>\n",
       "      <td>0.0</td>\n",
       "      <td>0.000000e+00</td>\n",
       "      <td>2.274596e+09</td>\n",
       "      <td>0.000488</td>\n",
       "      <td>1470.0</td>\n",
       "      <td>2.146673e-13</td>\n",
       "      <td>0.0</td>\n",
       "      <td>Feuille d'avokado</td>\n",
       "      <td>4.0</td>\n",
       "    </tr>\n",
       "    <tr>\n",
       "      <th>2</th>\n",
       "      <td>-LA08amT75bMr6tab8Iz</td>\n",
       "      <td>0.716195</td>\n",
       "      <td>141699.0</td>\n",
       "      <td>1.311203</td>\n",
       "      <td>564.434326</td>\n",
       "      <td>0.708520</td>\n",
       "      <td>1.408018e+18</td>\n",
       "      <td>5.566743e+18</td>\n",
       "      <td>141699.0</td>\n",
       "      <td>31811425.5</td>\n",
       "      <td>...</td>\n",
       "      <td>2.359395e+09</td>\n",
       "      <td>0.0</td>\n",
       "      <td>0.000000e+00</td>\n",
       "      <td>1.186599e+09</td>\n",
       "      <td>0.000000</td>\n",
       "      <td>1528.0</td>\n",
       "      <td>0.000000e+00</td>\n",
       "      <td>0.0</td>\n",
       "      <td>Feuille d'avokado</td>\n",
       "      <td>4.0</td>\n",
       "    </tr>\n",
       "    <tr>\n",
       "      <th>3</th>\n",
       "      <td>-LA08iU6X2W7dSctzEdh</td>\n",
       "      <td>0.716195</td>\n",
       "      <td>141699.0</td>\n",
       "      <td>1.311203</td>\n",
       "      <td>564.434326</td>\n",
       "      <td>0.708520</td>\n",
       "      <td>1.408018e+18</td>\n",
       "      <td>5.566743e+18</td>\n",
       "      <td>141699.0</td>\n",
       "      <td>31811425.5</td>\n",
       "      <td>...</td>\n",
       "      <td>2.359395e+09</td>\n",
       "      <td>0.0</td>\n",
       "      <td>0.000000e+00</td>\n",
       "      <td>1.186599e+09</td>\n",
       "      <td>0.000000</td>\n",
       "      <td>1528.0</td>\n",
       "      <td>0.000000e+00</td>\n",
       "      <td>0.0</td>\n",
       "      <td>Feuille d'avokado</td>\n",
       "      <td>4.0</td>\n",
       "    </tr>\n",
       "    <tr>\n",
       "      <th>4</th>\n",
       "      <td>-LA08sLl4ut12mIH1ExR</td>\n",
       "      <td>0.750638</td>\n",
       "      <td>47376.0</td>\n",
       "      <td>1.300760</td>\n",
       "      <td>323.833069</td>\n",
       "      <td>0.745020</td>\n",
       "      <td>1.947088e+16</td>\n",
       "      <td>6.285741e+16</td>\n",
       "      <td>47376.0</td>\n",
       "      <td>6016752.0</td>\n",
       "      <td>...</td>\n",
       "      <td>2.507138e+08</td>\n",
       "      <td>0.0</td>\n",
       "      <td>-1.192093e-07</td>\n",
       "      <td>1.395381e+08</td>\n",
       "      <td>0.000000</td>\n",
       "      <td>880.0</td>\n",
       "      <td>0.000000e+00</td>\n",
       "      <td>0.0</td>\n",
       "      <td>Feuille d'avokado</td>\n",
       "      <td>4.0</td>\n",
       "    </tr>\n",
       "    <tr>\n",
       "      <th>...</th>\n",
       "      <td>...</td>\n",
       "      <td>...</td>\n",
       "      <td>...</td>\n",
       "      <td>...</td>\n",
       "      <td>...</td>\n",
       "      <td>...</td>\n",
       "      <td>...</td>\n",
       "      <td>...</td>\n",
       "      <td>...</td>\n",
       "      <td>...</td>\n",
       "      <td>...</td>\n",
       "      <td>...</td>\n",
       "      <td>...</td>\n",
       "      <td>...</td>\n",
       "      <td>...</td>\n",
       "      <td>...</td>\n",
       "      <td>...</td>\n",
       "      <td>...</td>\n",
       "      <td>...</td>\n",
       "      <td>...</td>\n",
       "      <td>...</td>\n",
       "    </tr>\n",
       "    <tr>\n",
       "      <th>122</th>\n",
       "      <td>-LA8cZOjIVow4BTMiAZU</td>\n",
       "      <td>0.995496</td>\n",
       "      <td>49062.0</td>\n",
       "      <td>1.273246</td>\n",
       "      <td>322.646576</td>\n",
       "      <td>1.004545</td>\n",
       "      <td>4.060130e+16</td>\n",
       "      <td>3.987467e+16</td>\n",
       "      <td>49062.0</td>\n",
       "      <td>5470413.0</td>\n",
       "      <td>...</td>\n",
       "      <td>1.996864e+08</td>\n",
       "      <td>0.0</td>\n",
       "      <td>0.000000e+00</td>\n",
       "      <td>2.014976e+08</td>\n",
       "      <td>0.000000</td>\n",
       "      <td>886.0</td>\n",
       "      <td>0.000000e+00</td>\n",
       "      <td>0.0</td>\n",
       "      <td>Feuille de figues</td>\n",
       "      <td>1.0</td>\n",
       "    </tr>\n",
       "    <tr>\n",
       "      <th>123</th>\n",
       "      <td>-LA8ceOkZtOcUMh0rG3I</td>\n",
       "      <td>0.673403</td>\n",
       "      <td>132312.0</td>\n",
       "      <td>1.328093</td>\n",
       "      <td>552.203918</td>\n",
       "      <td>1.511864</td>\n",
       "      <td>4.853623e+18</td>\n",
       "      <td>9.332604e+17</td>\n",
       "      <td>132312.0</td>\n",
       "      <td>19714488.0</td>\n",
       "      <td>...</td>\n",
       "      <td>9.660540e+08</td>\n",
       "      <td>0.0</td>\n",
       "      <td>0.000000e+00</td>\n",
       "      <td>2.203094e+09</td>\n",
       "      <td>0.000000</td>\n",
       "      <td>1486.0</td>\n",
       "      <td>0.000000e+00</td>\n",
       "      <td>0.0</td>\n",
       "      <td>Feuille de figues</td>\n",
       "      <td>1.0</td>\n",
       "    </tr>\n",
       "    <tr>\n",
       "      <th>124</th>\n",
       "      <td>-LA8coo-IkwvGvPQtoNF</td>\n",
       "      <td>0.675944</td>\n",
       "      <td>246645.0</td>\n",
       "      <td>1.326947</td>\n",
       "      <td>753.313843</td>\n",
       "      <td>1.504950</td>\n",
       "      <td>5.811006e+19</td>\n",
       "      <td>1.136586e+19</td>\n",
       "      <td>246645.0</td>\n",
       "      <td>50192257.5</td>\n",
       "      <td>...</td>\n",
       "      <td>3.371329e+09</td>\n",
       "      <td>0.0</td>\n",
       "      <td>0.000000e+00</td>\n",
       "      <td>7.622995e+09</td>\n",
       "      <td>0.000000</td>\n",
       "      <td>2028.0</td>\n",
       "      <td>0.000000e+00</td>\n",
       "      <td>0.0</td>\n",
       "      <td>Feuille de figues</td>\n",
       "      <td>1.0</td>\n",
       "    </tr>\n",
       "    <tr>\n",
       "      <th>125</th>\n",
       "      <td>-LA8cvTTMfEO-svOp-Q4</td>\n",
       "      <td>0.953693</td>\n",
       "      <td>63973.0</td>\n",
       "      <td>1.273956</td>\n",
       "      <td>368.633545</td>\n",
       "      <td>0.953488</td>\n",
       "      <td>1.057837e+17</td>\n",
       "      <td>1.278881e+17</td>\n",
       "      <td>63973.0</td>\n",
       "      <td>8348476.5</td>\n",
       "      <td>...</td>\n",
       "      <td>3.576144e+08</td>\n",
       "      <td>0.0</td>\n",
       "      <td>0.000000e+00</td>\n",
       "      <td>3.252441e+08</td>\n",
       "      <td>0.000031</td>\n",
       "      <td>1012.0</td>\n",
       "      <td>9.382978e-14</td>\n",
       "      <td>0.0</td>\n",
       "      <td>Feuille de figues</td>\n",
       "      <td>1.0</td>\n",
       "    </tr>\n",
       "    <tr>\n",
       "      <th>126</th>\n",
       "      <td>-LA8d1FLwjNpCH_DH79Z</td>\n",
       "      <td>0.720658</td>\n",
       "      <td>168642.0</td>\n",
       "      <td>1.309708</td>\n",
       "      <td>615.079041</td>\n",
       "      <td>1.401734</td>\n",
       "      <td>1.101829e+19</td>\n",
       "      <td>2.863432e+18</td>\n",
       "      <td>168642.0</td>\n",
       "      <td>29428029.0</td>\n",
       "      <td>...</td>\n",
       "      <td>1.692168e+09</td>\n",
       "      <td>0.0</td>\n",
       "      <td>0.000000e+00</td>\n",
       "      <td>3.319380e+09</td>\n",
       "      <td>0.000000</td>\n",
       "      <td>1666.0</td>\n",
       "      <td>0.000000e+00</td>\n",
       "      <td>0.0</td>\n",
       "      <td>Feuille de figues</td>\n",
       "      <td>1.0</td>\n",
       "    </tr>\n",
       "  </tbody>\n",
       "</table>\n",
       "<p>127 rows × 23 columns</p>\n",
       "</div>"
      ],
      "text/plain": [
       "                     _key         a      area        ci           d  \\\n",
       "0    -LA07prX-5Fv0Hrn_oe0  0.735318   48951.0  1.305102  330.246338   \n",
       "1    -LA08FYaTlZ2noy8lXQd  0.597117  125156.0  1.373957  554.588745   \n",
       "2    -LA08amT75bMr6tab8Iz  0.716195  141699.0  1.311203  564.434326   \n",
       "3    -LA08iU6X2W7dSctzEdh  0.716195  141699.0  1.311203  564.434326   \n",
       "4    -LA08sLl4ut12mIH1ExR  0.750638   47376.0  1.300760  323.833069   \n",
       "..                    ...       ...       ...       ...         ...   \n",
       "122  -LA8cZOjIVow4BTMiAZU  0.995496   49062.0  1.273246  322.646576   \n",
       "123  -LA8ceOkZtOcUMh0rG3I  0.673403  132312.0  1.328093  552.203918   \n",
       "124  -LA8coo-IkwvGvPQtoNF  0.675944  246645.0  1.326947  753.313843   \n",
       "125  -LA8cvTTMfEO-svOp-Q4  0.953693   63973.0  1.273956  368.633545   \n",
       "126  -LA8d1FLwjNpCH_DH79Z  0.720658  168642.0  1.309708  615.079041   \n",
       "\n",
       "     eccentricity            kx            ky       m00         m01  ...  \\\n",
       "0        0.728682  2.123283e+16  7.487894e+16   48951.0   6388105.5  ...   \n",
       "1        1.745318  5.173785e+18  5.611514e+17  125156.0  16896060.0  ...   \n",
       "2        0.708520  1.408018e+18  5.566743e+18  141699.0  31811425.5  ...   \n",
       "3        0.708520  1.408018e+18  5.566743e+18  141699.0  31811425.5  ...   \n",
       "4        0.745020  1.947088e+16  6.285741e+16   47376.0   6016752.0  ...   \n",
       "..            ...           ...           ...       ...         ...  ...   \n",
       "122      1.004545  4.060130e+16  3.987467e+16   49062.0   5470413.0  ...   \n",
       "123      1.511864  4.853623e+18  9.332604e+17  132312.0  19714488.0  ...   \n",
       "124      1.504950  5.811006e+19  1.136586e+19  246645.0  50192257.5  ...   \n",
       "125      0.953488  1.057837e+17  1.278881e+17   63973.0   8348476.5  ...   \n",
       "126      1.401734  1.101829e+19  2.863432e+18  168642.0  29428029.0  ...   \n",
       "\n",
       "             mu02  mu03          mu11          mu20      mu30      pi  \\\n",
       "0    2.736402e+08   0.0  0.000000e+00  1.457149e+08  0.000000   896.0   \n",
       "1    7.491004e+08   0.0  0.000000e+00  2.274596e+09  0.000488  1470.0   \n",
       "2    2.359395e+09   0.0  0.000000e+00  1.186599e+09  0.000000  1528.0   \n",
       "3    2.359395e+09   0.0  0.000000e+00  1.186599e+09  0.000000  1528.0   \n",
       "4    2.507138e+08   0.0 -1.192093e-07  1.395381e+08  0.000000   880.0   \n",
       "..            ...   ...           ...           ...       ...     ...   \n",
       "122  1.996864e+08   0.0  0.000000e+00  2.014976e+08  0.000000   886.0   \n",
       "123  9.660540e+08   0.0  0.000000e+00  2.203094e+09  0.000000  1486.0   \n",
       "124  3.371329e+09   0.0  0.000000e+00  7.622995e+09  0.000000  2028.0   \n",
       "125  3.576144e+08   0.0  0.000000e+00  3.252441e+08  0.000031  1012.0   \n",
       "126  1.692168e+09   0.0  0.000000e+00  3.319380e+09  0.000000  1666.0   \n",
       "\n",
       "               sx   sy               type  type_index  \n",
       "0    0.000000e+00  0.0  Feuille d'avokado         4.0  \n",
       "1    2.146673e-13  0.0  Feuille d'avokado         4.0  \n",
       "2    0.000000e+00  0.0  Feuille d'avokado         4.0  \n",
       "3    0.000000e+00  0.0  Feuille d'avokado         4.0  \n",
       "4    0.000000e+00  0.0  Feuille d'avokado         4.0  \n",
       "..            ...  ...                ...         ...  \n",
       "122  0.000000e+00  0.0  Feuille de figues         1.0  \n",
       "123  0.000000e+00  0.0  Feuille de figues         1.0  \n",
       "124  0.000000e+00  0.0  Feuille de figues         1.0  \n",
       "125  9.382978e-14  0.0  Feuille de figues         1.0  \n",
       "126  0.000000e+00  0.0  Feuille de figues         1.0  \n",
       "\n",
       "[127 rows x 23 columns]"
      ]
     },
     "execution_count": 16,
     "metadata": {},
     "output_type": "execute_result"
    }
   ],
   "source": [
    "out=df_train.toPandas()\n",
    "out"
   ]
  },
  {
   "cell_type": "code",
   "execution_count": 19,
   "metadata": {},
   "outputs": [
    {
     "data": {
      "text/plain": [
       "[('_key', 'string'),\n",
       " ('a', 'double'),\n",
       " ('area', 'double'),\n",
       " ('ci', 'double'),\n",
       " ('d', 'double'),\n",
       " ('eccentricity', 'double'),\n",
       " ('kx', 'double'),\n",
       " ('ky', 'double'),\n",
       " ('m00', 'double'),\n",
       " ('m01', 'double'),\n",
       " ('m10', 'double'),\n",
       " ('minAreaPercent', 'double'),\n",
       " ('minEnclosingCircleArea', 'double'),\n",
       " ('mu02', 'double'),\n",
       " ('mu03', 'double'),\n",
       " ('mu11', 'double'),\n",
       " ('mu20', 'double'),\n",
       " ('mu30', 'double'),\n",
       " ('pi', 'double'),\n",
       " ('sx', 'double'),\n",
       " ('sy', 'double'),\n",
       " ('type', 'string'),\n",
       " ('type_index', 'double')]"
      ]
     },
     "execution_count": 19,
     "metadata": {},
     "output_type": "execute_result"
    }
   ],
   "source": [
    "df_train.dtypes\n",
    "\n",
    "\n",
    "\n"
   ]
  },
  {
   "cell_type": "code",
   "execution_count": 13,
   "metadata": {},
   "outputs": [],
   "source": [
    "from pyspark.ml.linalg import Vectors\n",
    "from pyspark.ml.feature import VectorAssembler"
   ]
  },
  {
   "cell_type": "code",
   "execution_count": 14,
   "metadata": {},
   "outputs": [],
   "source": [
    "featureassembler=VectorAssembler(inputCols=[\"a\",\"area\",\"ci\",\"pi\",\"eccentricity\",\"kx\",\"ky\",\"m00\",\"m01\",\"m10\",\"minAreaPercent\",\"minEnclosingCircleArea\",\"mu02\",\"mu03\",\"mu11\",\"mu20\",\"mu30\",\"sx\",\"sy\",\"d\"],outputCol=\"features\")\n"
   ]
  },
  {
   "cell_type": "code",
   "execution_count": 20,
   "metadata": {},
   "outputs": [],
   "source": [
    "output=featureassembler.transform(df_train)\n"
   ]
  },
  {
   "cell_type": "code",
   "execution_count": 21,
   "metadata": {},
   "outputs": [
    {
     "name": "stdout",
     "output_type": "stream",
     "text": [
      "+--------------------+\n",
      "|            features|\n",
      "+--------------------+\n",
      "|[0.73531844499586...|\n",
      "|[0.59711661485957...|\n",
      "|[0.71619451477034...|\n",
      "|[0.71619451477034...|\n",
      "|[0.75063757438367...|\n",
      "+--------------------+\n",
      "only showing top 5 rows\n",
      "\n"
     ]
    }
   ],
   "source": [
    "output.select(\"features\").show(5)\n"
   ]
  },
  {
   "cell_type": "code",
   "execution_count": 344,
   "metadata": {},
   "outputs": [
    {
     "data": {
      "text/plain": [
       "['_key',\n",
       " 'a',\n",
       " 'area',\n",
       " 'ci',\n",
       " 'd',\n",
       " 'eccentricity',\n",
       " 'kx',\n",
       " 'ky',\n",
       " 'm00',\n",
       " 'm01',\n",
       " 'm10',\n",
       " 'minAreaPercent',\n",
       " 'minEnclosingCircleArea',\n",
       " 'mu02',\n",
       " 'mu03',\n",
       " 'mu11',\n",
       " 'mu20',\n",
       " 'mu30',\n",
       " 'pi',\n",
       " 'sx',\n",
       " 'sy',\n",
       " 'type',\n",
       " 'type_index',\n",
       " 'features']"
      ]
     },
     "execution_count": 344,
     "metadata": {},
     "output_type": "execute_result"
    }
   ],
   "source": [
    "output.columns"
   ]
  },
  {
   "cell_type": "code",
   "execution_count": 24,
   "metadata": {},
   "outputs": [
    {
     "name": "stdout",
     "output_type": "stream",
     "text": [
      "+--------------------+----------+-----------------+------------------+\n",
      "|            features|type_index|             type|                 d|\n",
      "+--------------------+----------+-----------------+------------------+\n",
      "|[0.73531844499586...|       4.0|Feuille d'avokado|  330.246337890625|\n",
      "|[0.59711661485957...|       4.0|Feuille d'avokado| 554.5887451171875|\n",
      "|[0.71619451477034...|       4.0|Feuille d'avokado|  564.434326171875|\n",
      "|[0.71619451477034...|       4.0|Feuille d'avokado|  564.434326171875|\n",
      "|[0.75063757438367...|       4.0|Feuille d'avokado|323.83306884765625|\n",
      "+--------------------+----------+-----------------+------------------+\n",
      "only showing top 5 rows\n",
      "\n"
     ]
    }
   ],
   "source": [
    "finalized_data=output.select(\"features\",\"type_index\",\"type\",\"d\")\n",
    "finalized_data.show(5)"
   ]
  },
  {
   "cell_type": "code",
   "execution_count": 25,
   "metadata": {},
   "outputs": [],
   "source": [
    "#train_data,test_data=finalized_data.randomSplit([0.90,0.10])\n"
   ]
  },
  {
   "cell_type": "code",
   "execution_count": 36,
   "metadata": {},
   "outputs": [],
   "source": [
    "regressor=LinearRegression(featuresCol= 'features', labelCol='type_index',maxIter=100, elasticNetParam=0.8)\n",
    "regressor=regressor.fit(finalized_data)\n"
   ]
  },
  {
   "cell_type": "code",
   "execution_count": 37,
   "metadata": {},
   "outputs": [
    {
     "data": {
      "text/plain": [
       "DenseVector([-2.3437, -0.0001, -1.4714, 0.0132, -1.9109, 0.0, -0.0, -0.0001, 0.0, 0.0, 0.0, 0.0, -0.0, -0.0, -0.0, -0.0, 0.0, 0.3023, 0.5901, -0.012])"
      ]
     },
     "execution_count": 37,
     "metadata": {},
     "output_type": "execute_result"
    }
   ],
   "source": [
    "regressor.coefficients\n"
   ]
  },
  {
   "cell_type": "code",
   "execution_count": 38,
   "metadata": {
    "scrolled": false
   },
   "outputs": [
    {
     "data": {
      "image/png": "[encoded data removed]",
      "text/plain": [
       "<Figure size 432x288 with 1 Axes>"
      ]
     },
     "metadata": {
      "needs_background": "light"
     },
     "output_type": "display_data"
    }
   ],
   "source": [
    "import matplotlib.pyplot as plt\n",
    "import numpy as np\n",
    "beta = np.sort(regressor.coefficients)\n",
    "plt.plot(beta)\n",
    "plt.ylabel('Beta Coefficients')\n",
    "plt.show()"
   ]
  },
  {
   "cell_type": "code",
   "execution_count": 39,
   "metadata": {},
   "outputs": [
    {
     "data": {
      "text/plain": [
       "5.65323105207756"
      ]
     },
     "execution_count": 39,
     "metadata": {},
     "output_type": "execute_result"
    }
   ],
   "source": [
    "regressor.intercept"
   ]
  },
  {
   "cell_type": "code",
   "execution_count": 40,
   "metadata": {},
   "outputs": [
    {
     "name": "stdout",
     "output_type": "stream",
     "text": [
      "numIterations: 101\n"
     ]
    }
   ],
   "source": [
    "trainingSummary = regressor.summary\n",
    "print(\"numIterations: %d\" % trainingSummary.totalIterations)\n"
   ]
  },
  {
   "cell_type": "code",
   "execution_count": 46,
   "metadata": {
    "scrolled": true
   },
   "outputs": [
    {
     "name": "stdout",
     "output_type": "stream",
     "text": [
      "+-----------------+----------+------------------+\n",
      "|             type|type_index|        prediction|\n",
      "+-----------------+----------+------------------+\n",
      "|Feuille d'avokado|       4.0|3.5154331582726677|\n",
      "|Feuille d'avokado|       4.0|2.9869750058883477|\n",
      "|Feuille d'avokado|       4.0| 3.238131743651074|\n",
      "|Feuille d'avokado|       4.0| 3.238131743651074|\n",
      "|Feuille d'avokado|       4.0|3.4458106704157156|\n",
      "|Feuille d'avokado|       4.0|  4.23211871431739|\n",
      "+-----------------+----------+------------------+\n",
      "only showing top 6 rows\n",
      "\n"
     ]
    }
   ],
   "source": [
    "test_data=featureassembler.transform(df_test)\n",
    "rest=regressor.transform(test_data)\n",
    "df=rest.toPandas()\n",
    "rest.select(\"type\",\"type_index\",\"prediction\").show(6)"
   ]
  },
  {
   "cell_type": "code",
   "execution_count": 42,
   "metadata": {},
   "outputs": [],
   "source": [
    "from pyspark.ml.evaluation import BinaryClassificationEvaluator\n",
    "evaluator=BinaryClassificationEvaluator(rawPredictionCol='prediction',labelCol='type_index')"
   ]
  },
  {
   "cell_type": "code",
   "execution_count": 44,
   "metadata": {},
   "outputs": [
    {
     "name": "stdout",
     "output_type": "stream",
     "text": [
      "The area under ROC for test set is 0.7105093488072212\n"
     ]
    }
   ],
   "source": [
    "\n",
    "print(\"The area under ROC for test set is {}\".format(evaluator.evaluate(rest)))"
   ]
  },
  {
   "cell_type": "code",
   "execution_count": null,
   "metadata": {},
   "outputs": [],
   "source": []
  },
  {
   "cell_type": "code",
   "execution_count": 47,
   "metadata": {},
   "outputs": [],
   "source": [
    "\n",
    "#import data visualization packages\n",
    "import matplotlib.pyplot as plt\n",
    "import seaborn as sns; sns.set(color_codes=True)"
   ]
  },
  {
   "cell_type": "code",
   "execution_count": 49,
   "metadata": {},
   "outputs": [
    {
     "data": {
      "image/png": "[encoded data removed]",
      "text/plain": [
       "<Figure size 360x360 with 1 Axes>"
      ]
     },
     "metadata": {},
     "output_type": "display_data"
    }
   ],
   "source": [
    "g = sns.lmplot(x=\"prediction\", y=\"type_index\",data=df)"
   ]
  },
  {
   "cell_type": "code",
   "execution_count": 51,
   "metadata": {},
   "outputs": [
    {
     "data": {
      "image/png": "[encoded data removed]",
      "text/plain": [
       "<Figure size 864x648 with 10 Axes>"
      ]
     },
     "metadata": {},
     "output_type": "display_data"
    }
   ],
   "source": [
    "g = sns.lmplot(x=\"prediction\", y=\"type_index\",col=\"type\", hue=\"type\",col_wrap=4,height=3,data=df)"
   ]
  },
  {
   "cell_type": "code",
   "execution_count": null,
   "metadata": {},
   "outputs": [],
   "source": []
  },
  {
   "cell_type": "code",
   "execution_count": null,
   "metadata": {},
   "outputs": [],
   "source": [
    "\n"
   ]
  },
  {
   "cell_type": "code",
   "execution_count": null,
   "metadata": {},
   "outputs": [],
   "source": []
  },
  {
   "cell_type": "code",
   "execution_count": null,
   "metadata": {},
   "outputs": [],
   "source": []
  },
  {
   "cell_type": "code",
   "execution_count": null,
   "metadata": {},
   "outputs": [],
   "source": []
  },
  {
   "cell_type": "code",
   "execution_count": null,
   "metadata": {},
   "outputs": [],
   "source": []
  }
 ],
 "metadata": {
  "kernelspec": {
   "display_name": "Python 3",
   "language": "python",
   "name": "python3"
  },
  "language_info": {
   "codemirror_mode": {
    "name": "ipython",
    "version": 3
   },
   "file_extension": ".py",
   "mimetype": "text/x-python",
   "name": "python",
   "nbconvert_exporter": "python",
   "pygments_lexer": "ipython3",
   "version": "3.7.6"
  }
 },
 "nbformat": 4,
 "nbformat_minor": 2
}
